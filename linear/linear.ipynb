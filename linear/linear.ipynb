{
 "cells": [
  {
   "cell_type": "code",
   "execution_count": 1,
   "metadata": {},
   "outputs": [],
   "source": [
    "import numpy as np\n",
    "import matplotlib.pyplot as plt\n",
    "import random\n",
    "from tqdm import tqdm\n",
    "from sklearn.preprocessing import MinMaxScaler\n",
    "\n",
    "ITERATIONS = [10 ** k for k in range(1, 8)]\n",
    "MIN_TAU = 0\n",
    "MAX_TAU = 1.5\n",
    "TAU_COUNT = 300"
   ]
  },
  {
   "cell_type": "code",
   "execution_count": 2,
   "metadata": {},
   "outputs": [],
   "source": [
    "FILE = 6"
   ]
  },
  {
   "cell_type": "code",
   "execution_count": 3,
   "metadata": {},
   "outputs": [],
   "source": [
    "def read(f, M):\n",
    "    n = int(f.readline())\n",
    "    y = np.zeros(n)\n",
    "    X = np.zeros((n, M))\n",
    "    for i in range(n):\n",
    "        tmp = list(map(int, f.readline().split()))\n",
    "        y[i] = tmp[-1]\n",
    "        for j in range(M):\n",
    "            X[i][j] = tmp[j]\n",
    "    return n, MinMaxScaler().fit_transform(X), y\n",
    "\n",
    "\n",
    "with open(f\"{FILE}.txt\", \"r\") as dataFile:\n",
    "    M = int(dataFile.readline())\n",
    "\n",
    "    train_n, train_X, train_y = read(dataFile, M)\n",
    "    test_n, test_X, test_y = read(dataFile, M)\n"
   ]
  },
  {
   "cell_type": "code",
   "execution_count": 4,
   "metadata": {},
   "outputs": [],
   "source": [
    "def lsm(tau):\n",
    "    if tau == 0:\n",
    "        return np.linalg.pinv(train_X) @ train_y\n",
    "    return np.linalg.inv(train_X.T @ train_X + tau * np.eye(M)) @ train_X.T @ train_y\n",
    "\n",
    "\n",
    "def sgd(tau, iterations):\n",
    "    weights = np.random.uniform(-1 / (2 * M), 1 / (2 * M), M)\n",
    "    grad = 0\n",
    "    _lambda = 0.9\n",
    "    K = (1 - _lambda) * 2\n",
    "\n",
    "    for step in map(lambda x: 1 / x, range(1, iterations + 1)):\n",
    "        idx = random.randint(0, train_n - 1)\n",
    "\n",
    "        grad = _lambda * grad + K * ((weights @ train_X[idx]) - train_y[idx]) * train_X[idx] + 2 * tau * weights\n",
    "        weights = weights - step * grad\n",
    "\n",
    "    return weights\n",
    "\n",
    "\n",
    "def smape(weights):\n",
    "    y_pred = weights @ test_X.T\n",
    "    return np.mean(np.abs(test_y - y_pred) / (np.abs(test_y) + np.abs(y_pred)))\n"
   ]
  },
  {
   "cell_type": "code",
   "execution_count": 5,
   "metadata": {},
   "outputs": [],
   "source": [
    "def best_tau(fit):\n",
    "    best = 0\n",
    "    best_score = smape(fit(0))\n",
    "    sc = [best_score]\n",
    "    ps = [best]\n",
    "    for i in tqdm(np.linspace(MIN_TAU, MAX_TAU, TAU_COUNT)):\n",
    "        ws = fit(i)\n",
    "        score = smape(ws)\n",
    "        ps.append(i)\n",
    "        sc.append(score)\n",
    "\n",
    "        if score < best_score:\n",
    "            best_score = score\n",
    "            best = i\n",
    "    print(\"got best param \", best, \", with score\", best_score)\n",
    "\n",
    "    plt.loglog(ps, sc, marker='x', linestyle='None', color='r')\n",
    "    plt.ylabel('smape')\n",
    "    plt.xlabel('tau')\n",
    "    plt.show()\n",
    "    return best"
   ]
  },
  {
   "cell_type": "code",
   "execution_count": 6,
   "metadata": {},
   "outputs": [
    {
     "name": "stderr",
     "output_type": "stream",
     "text": [
      "100%|██████████| 300/300 [00:05<00:00, 59.86it/s]\n"
     ]
    },
    {
     "name": "stdout",
     "output_type": "stream",
     "text": [
      "got best param  0.005016722408026756 , with score 0.032562345685967095\n"
     ]
    },
    {
     "data": {
      "image/png": "[encoded data removed]",
      "text/plain": [
       "<Figure size 432x288 with 1 Axes>"
      ]
     },
     "metadata": {
      "needs_background": "light"
     },
     "output_type": "display_data"
    },
    {
     "data": {
      "text/plain": [
       "0.005016722408026756"
      ]
     },
     "execution_count": 6,
     "metadata": {},
     "output_type": "execute_result"
    }
   ],
   "source": [
    "best_tau(lsm)"
   ]
  },
  {
   "cell_type": "code",
   "execution_count": 7,
   "metadata": {},
   "outputs": [
    {
     "name": "stderr",
     "output_type": "stream",
     "text": [
      "100%|██████████| 300/300 [00:09<00:00, 33.01it/s]\n"
     ]
    },
    {
     "name": "stdout",
     "output_type": "stream",
     "text": [
      "got best param  0.015050167224080268 , with score 0.02260347797177694\n"
     ]
    },
    {
     "data": {
      "image/png": "[encoded data removed]",
      "text/plain": [
       "<Figure size 432x288 with 1 Axes>"
      ]
     },
     "metadata": {
      "needs_background": "light"
     },
     "output_type": "display_data"
    }
   ],
   "source": [
    "sgd_tau = best_tau(lambda x: sgd(x, 2000))"
   ]
  },
  {
   "cell_type": "code",
   "execution_count": 8,
   "metadata": {},
   "outputs": [
    {
     "name": "stderr",
     "output_type": "stream",
     "text": [
      "100%|██████████| 7/7 [01:56<00:00, 16.70s/it]\n"
     ]
    },
    {
     "data": {
      "image/png": "[encoded data removed]",
      "text/plain": [
       "<Figure size 432x288 with 1 Axes>"
      ]
     },
     "metadata": {
      "needs_background": "light"
     },
     "output_type": "display_data"
    }
   ],
   "source": [
    "smaps = []\n",
    "for iters in tqdm(ITERATIONS):\n",
    "    smaps.append(smape(sgd(sgd_tau, iters)))\n",
    "\n",
    "plt.loglog(ITERATIONS, smaps, color='g', marker='X', linestyle='--')\n",
    "plt.ylabel('smape')\n",
    "plt.xlabel('iterations')\n",
    "plt.show()"
   ]
  },
  {
   "cell_type": "code",
   "execution_count": null,
   "metadata": {},
   "outputs": [],
   "source": []
  }
 ],
 "metadata": {
  "kernelspec": {
   "display_name": "Python 3",
   "language": "python",
   "name": "python3"
  },
  "language_info": {
   "codemirror_mode": {
    "name": "ipython",
    "version": 3
   },
   "file_extension": ".py",
   "mimetype": "text/x-python",
   "name": "python",
   "nbconvert_exporter": "python",
   "pygments_lexer": "ipython3",
   "version": "3.8.5"
  }
 },
 "nbformat": 4,
 "nbformat_minor": 4
}
